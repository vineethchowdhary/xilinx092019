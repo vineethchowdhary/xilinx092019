{
 "cells": [
  {
   "cell_type": "code",
   "execution_count": 1,
   "metadata": {},
   "outputs": [
    {
     "ename": "IndexError",
     "evalue": "list index out of range",
     "output_type": "error",
     "traceback": [
      "\u001b[0;31m---------------------------------------------------------------------------\u001b[0m",
      "\u001b[0;31mIndexError\u001b[0m                                Traceback (most recent call last)",
      "\u001b[0;32m<ipython-input-1-8772390b8f17>\u001b[0m in \u001b[0;36m<module>\u001b[0;34m\u001b[0m\n\u001b[1;32m      1\u001b[0m \u001b[0mmylist\u001b[0m \u001b[0;34m=\u001b[0m \u001b[0;34m[\u001b[0m\u001b[0;36m10\u001b[0m\u001b[0;34m,\u001b[0m \u001b[0;36m20\u001b[0m\u001b[0;34m,\u001b[0m \u001b[0;36m30\u001b[0m\u001b[0;34m]\u001b[0m\u001b[0;34m\u001b[0m\u001b[0;34m\u001b[0m\u001b[0m\n\u001b[1;32m      2\u001b[0m \u001b[0;34m\u001b[0m\u001b[0m\n\u001b[0;32m----> 3\u001b[0;31m \u001b[0mx\u001b[0m \u001b[0;34m=\u001b[0m \u001b[0mmylist\u001b[0m\u001b[0;34m[\u001b[0m\u001b[0;36m999\u001b[0m\u001b[0;34m]\u001b[0m\u001b[0;34m\u001b[0m\u001b[0;34m\u001b[0m\u001b[0m\n\u001b[0m",
      "\u001b[0;31mIndexError\u001b[0m: list index out of range"
     ]
    }
   ],
   "source": [
    "mylist = [10, 20, 30]\n",
    "\n",
    "x = mylist[999]"
   ]
  },
  {
   "cell_type": "code",
   "execution_count": 2,
   "metadata": {},
   "outputs": [
    {
     "ename": "NameError",
     "evalue": "name 'x' is not defined",
     "output_type": "error",
     "traceback": [
      "\u001b[0;31m---------------------------------------------------------------------------\u001b[0m",
      "\u001b[0;31mNameError\u001b[0m                                 Traceback (most recent call last)",
      "\u001b[0;32m<ipython-input-2-6fcf9dfbd479>\u001b[0m in \u001b[0;36m<module>\u001b[0;34m\u001b[0m\n\u001b[0;32m----> 1\u001b[0;31m \u001b[0mx\u001b[0m\u001b[0;34m\u001b[0m\u001b[0;34m\u001b[0m\u001b[0m\n\u001b[0m",
      "\u001b[0;31mNameError\u001b[0m: name 'x' is not defined"
     ]
    }
   ],
   "source": [
    "x"
   ]
  },
  {
   "cell_type": "code",
   "execution_count": 9,
   "metadata": {},
   "outputs": [
    {
     "name": "stdout",
     "output_type": "stream",
     "text": [
      "before\n",
      "Try to avoid dividing by zero: division by zero\n",
      "Outside of the try/except section\n"
     ]
    }
   ],
   "source": [
    "class XilinxWhateverError(Exception): \n",
    "    pass\n",
    "\n",
    "\n",
    "try:\n",
    "    print(\"before\")\n",
    "    # x = mylist[999]\n",
    "    x = 100 / 0\n",
    "    print(\"after\")\n",
    "except IndexError as e:\n",
    "    print(f\"In 'except', there was an index problem: {e}\")    \n",
    "except ZeroDivisionError as e:\n",
    "    print(f\"Try to avoid dividing by zero: {e}\")\n",
    "\n",
    "print(\"Outside of the try/except section\")"
   ]
  },
  {
   "cell_type": "code",
   "execution_count": 10,
   "metadata": {},
   "outputs": [
    {
     "ename": "XilinxWhateverError",
     "evalue": "nothing to worry about",
     "output_type": "error",
     "traceback": [
      "\u001b[0;31m---------------------------------------------------------------------------\u001b[0m",
      "\u001b[0;31mXilinxWhateverError\u001b[0m                       Traceback (most recent call last)",
      "\u001b[0;32m<ipython-input-10-8d8033cabe10>\u001b[0m in \u001b[0;36m<module>\u001b[0;34m\u001b[0m\n\u001b[0;32m----> 1\u001b[0;31m \u001b[0;32mraise\u001b[0m \u001b[0mXilinxWhateverError\u001b[0m\u001b[0;34m(\u001b[0m\u001b[0;34m'nothing to worry about'\u001b[0m\u001b[0;34m)\u001b[0m\u001b[0;34m\u001b[0m\u001b[0;34m\u001b[0m\u001b[0m\n\u001b[0m",
      "\u001b[0;31mXilinxWhateverError\u001b[0m: nothing to worry about"
     ]
    }
   ],
   "source": [
    "raise XilinxWhateverError('nothing to worry about')"
   ]
  },
  {
   "cell_type": "code",
   "execution_count": 13,
   "metadata": {},
   "outputs": [
    {
     "name": "stdout",
     "output_type": "stream",
     "text": [
      "Enter a number:abc\n",
      "That wasn't an integer!\n"
     ]
    }
   ],
   "source": [
    "x = input(\"Enter a number:\")\n",
    "try:\n",
    "    print(int(x) * 5)\n",
    "except ValueError as e:\n",
    "    print(\"That wasn't an integer!\")"
   ]
  },
  {
   "cell_type": "code",
   "execution_count": 14,
   "metadata": {},
   "outputs": [
    {
     "ename": "AssertionError",
     "evalue": "",
     "output_type": "error",
     "traceback": [
      "\u001b[0;31m---------------------------------------------------------------------------\u001b[0m",
      "\u001b[0;31mAssertionError\u001b[0m                            Traceback (most recent call last)",
      "\u001b[0;32m<ipython-input-14-ce781a32d075>\u001b[0m in \u001b[0;36m<module>\u001b[0;34m\u001b[0m\n\u001b[0;32m----> 1\u001b[0;31m \u001b[0;32massert\u001b[0m \u001b[0;36m1\u001b[0m \u001b[0;34m==\u001b[0m \u001b[0;36m2\u001b[0m\u001b[0;34m\u001b[0m\u001b[0;34m\u001b[0m\u001b[0m\n\u001b[0m",
      "\u001b[0;31mAssertionError\u001b[0m: "
     ]
    }
   ],
   "source": [
    "assert 1 == 2"
   ]
  },
  {
   "cell_type": "code",
   "execution_count": 15,
   "metadata": {},
   "outputs": [],
   "source": [
    "import sys\n"
   ]
  },
  {
   "cell_type": "code",
   "execution_count": 16,
   "metadata": {},
   "outputs": [
    {
     "data": {
      "text/plain": [
       "<bound method InteractiveShell.excepthook of <ipykernel.zmqshell.ZMQInteractiveShell object at 0x112a91190>>"
      ]
     },
     "execution_count": 16,
     "metadata": {},
     "output_type": "execute_result"
    }
   ],
   "source": [
    "sys.excepthook"
   ]
  },
  {
   "cell_type": "code",
   "execution_count": 18,
   "metadata": {},
   "outputs": [],
   "source": [
    "sys.excepthook??"
   ]
  },
  {
   "cell_type": "code",
   "execution_count": 19,
   "metadata": {},
   "outputs": [],
   "source": [
    "def add(a, b):\n",
    "    return a + b\n",
    "\n",
    "assert add(2,2) == 4"
   ]
  },
  {
   "cell_type": "code",
   "execution_count": 20,
   "metadata": {},
   "outputs": [
    {
     "ename": "AssertionError",
     "evalue": "",
     "output_type": "error",
     "traceback": [
      "\u001b[0;31m---------------------------------------------------------------------------\u001b[0m",
      "\u001b[0;31mAssertionError\u001b[0m                            Traceback (most recent call last)",
      "\u001b[0;32m<ipython-input-20-41e189aff935>\u001b[0m in \u001b[0;36m<module>\u001b[0;34m\u001b[0m\n\u001b[0;32m----> 1\u001b[0;31m \u001b[0;32massert\u001b[0m \u001b[0madd\u001b[0m\u001b[0;34m(\u001b[0m\u001b[0;36m2\u001b[0m\u001b[0;34m,\u001b[0m\u001b[0;36m2\u001b[0m\u001b[0;34m)\u001b[0m \u001b[0;34m==\u001b[0m \u001b[0;36m5\u001b[0m\u001b[0;34m\u001b[0m\u001b[0;34m\u001b[0m\u001b[0m\n\u001b[0m",
      "\u001b[0;31mAssertionError\u001b[0m: "
     ]
    }
   ],
   "source": [
    "assert add(2,2) == 5"
   ]
  },
  {
   "cell_type": "code",
   "execution_count": 21,
   "metadata": {},
   "outputs": [
    {
     "name": "stdout",
     "output_type": "stream",
     "text": [
      "10\n",
      "20\n",
      "30\n"
     ]
    }
   ],
   "source": [
    "mylist = [10, 20, 30]\n",
    "\n",
    "for one_item in mylist:\n",
    "    print(one_item)"
   ]
  },
  {
   "cell_type": "code",
   "execution_count": 22,
   "metadata": {},
   "outputs": [
    {
     "name": "stdout",
     "output_type": "stream",
     "text": [
      "3 16 3 76 71 18 2 70 18 3 59 50 54 72 62 64 70 61 71 70 70 66 56 66 62 67 52 63 60 69 58 50 50 54 66 67 59 63 64 61 62 61 62 61 55 55 74 53 65 65 55 56 50 56 88 66 61 70 81 65 62 56 75 65 54 64 75 72 85 72 67 53 55 69 77 74 94 85 97 73 84 68 71 70 63 55 82 82 74 64 66 76 55 78 80 56 63 82 76 63 55 69 61 99 73 55 63 100 "
     ]
    }
   ],
   "source": [
    "for one_line in open('/etc/passwd'):\n",
    "    print(len(one_line), end=' ')"
   ]
  },
  {
   "cell_type": "code",
   "execution_count": 23,
   "metadata": {},
   "outputs": [
    {
     "ename": "TypeError",
     "evalue": "'int' object is not iterable",
     "output_type": "error",
     "traceback": [
      "\u001b[0;31m---------------------------------------------------------------------------\u001b[0m",
      "\u001b[0;31mTypeError\u001b[0m                                 Traceback (most recent call last)",
      "\u001b[0;32m<ipython-input-23-d28a99472d6b>\u001b[0m in \u001b[0;36m<module>\u001b[0;34m\u001b[0m\n\u001b[0;32m----> 1\u001b[0;31m \u001b[0;32mfor\u001b[0m \u001b[0mone_item\u001b[0m \u001b[0;32min\u001b[0m \u001b[0;36m5\u001b[0m\u001b[0;34m:\u001b[0m\u001b[0;34m\u001b[0m\u001b[0;34m\u001b[0m\u001b[0m\n\u001b[0m\u001b[1;32m      2\u001b[0m     \u001b[0mprint\u001b[0m\u001b[0;34m(\u001b[0m\u001b[0mone_item\u001b[0m\u001b[0;34m)\u001b[0m\u001b[0;34m\u001b[0m\u001b[0;34m\u001b[0m\u001b[0m\n",
      "\u001b[0;31mTypeError\u001b[0m: 'int' object is not iterable"
     ]
    }
   ],
   "source": [
    "for one_item in 5:\n",
    "    print(one_item)"
   ]
  },
  {
   "cell_type": "code",
   "execution_count": 24,
   "metadata": {},
   "outputs": [
    {
     "data": {
      "text/plain": [
       "[10, 20, 30]"
      ]
     },
     "execution_count": 24,
     "metadata": {},
     "output_type": "execute_result"
    }
   ],
   "source": [
    "mylist"
   ]
  },
  {
   "cell_type": "code",
   "execution_count": 25,
   "metadata": {},
   "outputs": [
    {
     "data": {
      "text/plain": [
       "<list_iterator at 0x113492c50>"
      ]
     },
     "execution_count": 25,
     "metadata": {},
     "output_type": "execute_result"
    }
   ],
   "source": [
    "# either we'll get an exception(TypeError) indicating \"not iterable\"\n",
    "# or we'll get an iterator object back\n",
    "\n",
    "iter(mylist)"
   ]
  },
  {
   "cell_type": "code",
   "execution_count": 26,
   "metadata": {},
   "outputs": [
    {
     "data": {
      "text/plain": [
       "<str_iterator at 0x1133c9910>"
      ]
     },
     "execution_count": 26,
     "metadata": {},
     "output_type": "execute_result"
    }
   ],
   "source": [
    "iter('abcd')"
   ]
  },
  {
   "cell_type": "code",
   "execution_count": 27,
   "metadata": {},
   "outputs": [
    {
     "data": {
      "text/plain": [
       "<_io.TextIOWrapper name='/etc/passwd' mode='r' encoding='UTF-8'>"
      ]
     },
     "execution_count": 27,
     "metadata": {},
     "output_type": "execute_result"
    }
   ],
   "source": [
    "iter(open('/etc/passwd'))"
   ]
  },
  {
   "cell_type": "code",
   "execution_count": 28,
   "metadata": {},
   "outputs": [
    {
     "ename": "TypeError",
     "evalue": "'int' object is not iterable",
     "output_type": "error",
     "traceback": [
      "\u001b[0;31m---------------------------------------------------------------------------\u001b[0m",
      "\u001b[0;31mTypeError\u001b[0m                                 Traceback (most recent call last)",
      "\u001b[0;32m<ipython-input-28-f0913ab840ef>\u001b[0m in \u001b[0;36m<module>\u001b[0;34m\u001b[0m\n\u001b[0;32m----> 1\u001b[0;31m \u001b[0miter\u001b[0m\u001b[0;34m(\u001b[0m\u001b[0;36m5\u001b[0m\u001b[0;34m)\u001b[0m\u001b[0;34m\u001b[0m\u001b[0;34m\u001b[0m\u001b[0m\n\u001b[0m",
      "\u001b[0;31mTypeError\u001b[0m: 'int' object is not iterable"
     ]
    }
   ],
   "source": [
    "iter(5)"
   ]
  },
  {
   "cell_type": "code",
   "execution_count": 29,
   "metadata": {},
   "outputs": [],
   "source": [
    "i = iter(mylist)"
   ]
  },
  {
   "cell_type": "code",
   "execution_count": 30,
   "metadata": {},
   "outputs": [
    {
     "data": {
      "text/plain": [
       "list_iterator"
      ]
     },
     "execution_count": 30,
     "metadata": {},
     "output_type": "execute_result"
    }
   ],
   "source": [
    "type(i)"
   ]
  },
  {
   "cell_type": "code",
   "execution_count": 31,
   "metadata": {},
   "outputs": [
    {
     "data": {
      "text/plain": [
       "10"
      ]
     },
     "execution_count": 31,
     "metadata": {},
     "output_type": "execute_result"
    }
   ],
   "source": [
    "next(i)"
   ]
  },
  {
   "cell_type": "code",
   "execution_count": 32,
   "metadata": {},
   "outputs": [
    {
     "data": {
      "text/plain": [
       "20"
      ]
     },
     "execution_count": 32,
     "metadata": {},
     "output_type": "execute_result"
    }
   ],
   "source": [
    "next(i)"
   ]
  },
  {
   "cell_type": "code",
   "execution_count": 33,
   "metadata": {},
   "outputs": [
    {
     "data": {
      "text/plain": [
       "30"
      ]
     },
     "execution_count": 33,
     "metadata": {},
     "output_type": "execute_result"
    }
   ],
   "source": [
    "next(i)"
   ]
  },
  {
   "cell_type": "code",
   "execution_count": 34,
   "metadata": {},
   "outputs": [
    {
     "ename": "StopIteration",
     "evalue": "",
     "output_type": "error",
     "traceback": [
      "\u001b[0;31m---------------------------------------------------------------------------\u001b[0m",
      "\u001b[0;31mStopIteration\u001b[0m                             Traceback (most recent call last)",
      "\u001b[0;32m<ipython-input-34-a883b34d6d8a>\u001b[0m in \u001b[0;36m<module>\u001b[0;34m\u001b[0m\n\u001b[0;32m----> 1\u001b[0;31m \u001b[0mnext\u001b[0m\u001b[0;34m(\u001b[0m\u001b[0mi\u001b[0m\u001b[0;34m)\u001b[0m\u001b[0;34m\u001b[0m\u001b[0;34m\u001b[0m\u001b[0m\n\u001b[0m",
      "\u001b[0;31mStopIteration\u001b[0m: "
     ]
    }
   ],
   "source": [
    "next(i)"
   ]
  },
  {
   "cell_type": "code",
   "execution_count": 36,
   "metadata": {},
   "outputs": [],
   "source": [
    "def my_for(thing):\n",
    "    i = iter(thing)\n",
    "    while True:\n",
    "        try:\n",
    "            print(next(i))\n",
    "        except StopIteration:\n",
    "            break\n",
    "    "
   ]
  },
  {
   "cell_type": "code",
   "execution_count": 37,
   "metadata": {},
   "outputs": [
    {
     "name": "stdout",
     "output_type": "stream",
     "text": [
      "10\n",
      "20\n",
      "30\n"
     ]
    }
   ],
   "source": [
    "my_for(mylist)"
   ]
  },
  {
   "cell_type": "code",
   "execution_count": 43,
   "metadata": {},
   "outputs": [
    {
     "name": "stdout",
     "output_type": "stream",
     "text": [
      "In __init__\n",
      "In __iter__\n",
      "In __next__\n",
      "index = 0, getting result\n",
      "a\n",
      "In __next__\n",
      "index = 1, getting result\n",
      "b\n",
      "In __next__\n",
      "index = 2, getting result\n",
      "c\n",
      "In __next__\n",
      "index = 3, getting result\n",
      "d\n",
      "In __next__\n",
      "End of iterations\n"
     ]
    }
   ],
   "source": [
    "class MyIter():\n",
    "    def __init__(self, data):\n",
    "        print(\"In __init__\")\n",
    "        self.data = data\n",
    "        self.index = 0\n",
    "        \n",
    "    def __iter__(self):\n",
    "        print(\"In __iter__\")\n",
    "        return self    # \"self\" has \"next\" defined on it\n",
    "    \n",
    "    def __next__(self):\n",
    "        print(\"In __next__\")\n",
    "        if self.index >= len(self.data):\n",
    "            print(\"End of iterations\")\n",
    "            raise StopIteration\n",
    "            \n",
    "        print(f\"index = {self.index}, getting result\")\n",
    "        result = self.data[self.index]\n",
    "        self.index += 1\n",
    "        return result\n",
    "        \n",
    "\n",
    "m = MyIter('abcd')\n",
    "\n",
    "for one_item in m:\n",
    "    print(one_item)"
   ]
  },
  {
   "cell_type": "code",
   "execution_count": null,
   "metadata": {},
   "outputs": [],
   "source": [
    "iter(m)  # this runs m.__iter__ ... the result should be something with __next__"
   ]
  },
  {
   "cell_type": "code",
   "execution_count": 44,
   "metadata": {},
   "outputs": [
    {
     "name": "stdout",
     "output_type": "stream",
     "text": [
      "In __init__\n",
      "In __iter__\n",
      "In __next__\n",
      "index = 0, getting result\n",
      "In __next__\n",
      "index = 1, getting result\n",
      "In __next__\n",
      "index = 2, getting result\n",
      "In __next__\n",
      "index = 3, getting result\n",
      "In __next__\n",
      "End of iterations\n"
     ]
    },
    {
     "data": {
      "text/plain": [
       "['a', 'b', 'c', 'd']"
      ]
     },
     "execution_count": 44,
     "metadata": {},
     "output_type": "execute_result"
    }
   ],
   "source": [
    "m = MyIter('abcd')\n",
    "list(m)"
   ]
  },
  {
   "cell_type": "code",
   "execution_count": 45,
   "metadata": {},
   "outputs": [
    {
     "name": "stdout",
     "output_type": "stream",
     "text": [
      "In __init__\n",
      "In __iter__\n",
      "In __next__\n",
      "index = 0, getting result\n",
      "In __next__\n",
      "index = 1, getting result\n",
      "In __next__\n",
      "index = 2, getting result\n",
      "In __next__\n",
      "index = 3, getting result\n",
      "In __next__\n",
      "End of iterations\n"
     ]
    },
    {
     "data": {
      "text/plain": [
       "('a', 'b', 'c', 'd')"
      ]
     },
     "execution_count": 45,
     "metadata": {},
     "output_type": "execute_result"
    }
   ],
   "source": [
    "m = MyIter('abcd')\n",
    "tuple(m)"
   ]
  },
  {
   "cell_type": "code",
   "execution_count": 46,
   "metadata": {},
   "outputs": [
    {
     "name": "stdout",
     "output_type": "stream",
     "text": [
      "In __init__\n",
      "In __iter__\n",
      "In __next__\n",
      "index = 0, getting result\n",
      "In __next__\n",
      "index = 1, getting result\n",
      "In __next__\n",
      "index = 2, getting result\n",
      "In __next__\n",
      "index = 3, getting result\n",
      "In __next__\n",
      "End of iterations\n"
     ]
    },
    {
     "data": {
      "text/plain": [
       "{'a': None, 'b': None, 'c': None, 'd': None}"
      ]
     },
     "execution_count": 46,
     "metadata": {},
     "output_type": "execute_result"
    }
   ],
   "source": [
    "m = MyIter('abcd')\n",
    "dict.fromkeys(m)"
   ]
  },
  {
   "cell_type": "code",
   "execution_count": 48,
   "metadata": {},
   "outputs": [
    {
     "data": {
      "text/plain": [
       "26"
      ]
     },
     "execution_count": 48,
     "metadata": {},
     "output_type": "execute_result"
    }
   ],
   "source": [
    "s = 'abcdefghijklmnopqrstuvwxyz'\n",
    "len(s)"
   ]
  },
  {
   "cell_type": "code",
   "execution_count": 50,
   "metadata": {},
   "outputs": [
    {
     "name": "stdout",
     "output_type": "stream",
     "text": [
      "n o p q r s t u v w x y z "
     ]
    }
   ],
   "source": [
    "for one_letter in s[13:]:\n",
    "    print(one_letter, end=' ')"
   ]
  },
  {
   "cell_type": "code",
   "execution_count": 75,
   "metadata": {},
   "outputs": [
    {
     "name": "stdout",
     "output_type": "stream",
     "text": [
      "In __init__\n",
      "----- A ------\n",
      "In __iter__\n",
      "In __next__\n",
      "index = 0, getting result\n",
      "a\n",
      "In __next__\n",
      "index = 1, getting result\n",
      "b\n",
      "In __next__\n",
      "index = 2, getting result\n",
      "c\n",
      "In __next__\n",
      "index = 3, getting result\n",
      "d\n",
      "In __next__\n",
      "End of iterations\n",
      "----- B ------\n",
      "In __iter__\n",
      "In __next__\n",
      "End of iterations\n"
     ]
    }
   ],
   "source": [
    "class MyIter():\n",
    "    def __init__(self, data):\n",
    "        print(\"In __init__\")\n",
    "        self.data = data\n",
    "        self.index = 0\n",
    "        \n",
    "    def __iter__(self):\n",
    "        print(\"In __iter__\")\n",
    "        return self    # \"self\" has \"next\" defined on it\n",
    "    \n",
    "    def __next__(self):\n",
    "        print(\"In __next__\")\n",
    "        if self.index >= len(self.data):\n",
    "            print(\"End of iterations\")\n",
    "            raise StopIteration\n",
    "            \n",
    "        print(f\"index = {self.index}, getting result\")\n",
    "        result = self.data[self.index]\n",
    "        self.index += 1\n",
    "        return result\n",
    "        \n",
    "\n",
    "m = MyIter('abcd')\n",
    "\n",
    "print(\"----- A ------\")\n",
    "for one_item in m:\n",
    "    print(one_item)\n",
    "    \n",
    "print(\"----- B ------\")\n",
    "for one_item in m:\n",
    "    print(one_item)    "
   ]
  },
  {
   "cell_type": "code",
   "execution_count": 52,
   "metadata": {},
   "outputs": [
    {
     "data": {
      "text/plain": [
       "<_io.TextIOWrapper name='/etc/passwd' mode='r' encoding='UTF-8'>"
      ]
     },
     "execution_count": 52,
     "metadata": {},
     "output_type": "execute_result"
    }
   ],
   "source": [
    "f = open('/etc/passwd')\n",
    "iter(f)"
   ]
  },
  {
   "cell_type": "code",
   "execution_count": 53,
   "metadata": {},
   "outputs": [
    {
     "data": {
      "text/plain": [
       "True"
      ]
     },
     "execution_count": 53,
     "metadata": {},
     "output_type": "execute_result"
    }
   ],
   "source": [
    "f is iter(f)"
   ]
  },
  {
   "cell_type": "code",
   "execution_count": 54,
   "metadata": {},
   "outputs": [
    {
     "data": {
      "text/plain": [
       "<str_iterator at 0x113ab2d50>"
      ]
     },
     "execution_count": 54,
     "metadata": {},
     "output_type": "execute_result"
    }
   ],
   "source": [
    "iter('abcd')"
   ]
  },
  {
   "cell_type": "code",
   "execution_count": 55,
   "metadata": {},
   "outputs": [
    {
     "data": {
      "text/plain": [
       "<list_iterator at 0x113ad1ad0>"
      ]
     },
     "execution_count": 55,
     "metadata": {},
     "output_type": "execute_result"
    }
   ],
   "source": [
    "iter([10, 20, 30])"
   ]
  },
  {
   "cell_type": "code",
   "execution_count": 56,
   "metadata": {},
   "outputs": [
    {
     "ename": "TypeError",
     "evalue": "'list' object is not an iterator",
     "output_type": "error",
     "traceback": [
      "\u001b[0;31m---------------------------------------------------------------------------\u001b[0m",
      "\u001b[0;31mTypeError\u001b[0m                                 Traceback (most recent call last)",
      "\u001b[0;32m<ipython-input-56-326dc2678e39>\u001b[0m in \u001b[0;36m<module>\u001b[0;34m\u001b[0m\n\u001b[0;32m----> 1\u001b[0;31m \u001b[0mnext\u001b[0m\u001b[0;34m(\u001b[0m\u001b[0;34m[\u001b[0m\u001b[0;36m10\u001b[0m\u001b[0;34m,\u001b[0m \u001b[0;36m20\u001b[0m\u001b[0;34m,\u001b[0m \u001b[0;36m30\u001b[0m\u001b[0;34m]\u001b[0m\u001b[0;34m)\u001b[0m\u001b[0;34m\u001b[0m\u001b[0;34m\u001b[0m\u001b[0m\n\u001b[0m",
      "\u001b[0;31mTypeError\u001b[0m: 'list' object is not an iterator"
     ]
    }
   ],
   "source": [
    "next([10, 20, 30])"
   ]
  },
  {
   "cell_type": "code",
   "execution_count": 57,
   "metadata": {},
   "outputs": [
    {
     "name": "stdout",
     "output_type": "stream",
     "text": [
      "In Myiter.__init__\n",
      "----- A ------\n",
      "In MyIter.__iter__\n",
      "In MyIterIterator.__init__\n",
      "In MyIterIterator.__next__\n",
      "index = 0, getting result\n",
      "a\n",
      "In MyIterIterator.__next__\n",
      "index = 1, getting result\n",
      "b\n",
      "In MyIterIterator.__next__\n",
      "index = 2, getting result\n",
      "c\n",
      "In MyIterIterator.__next__\n",
      "index = 3, getting result\n",
      "d\n",
      "In MyIterIterator.__next__\n",
      "End of iterations\n",
      "----- B ------\n",
      "In MyIter.__iter__\n",
      "In MyIterIterator.__init__\n",
      "In MyIterIterator.__next__\n",
      "index = 0, getting result\n",
      "a\n",
      "In MyIterIterator.__next__\n",
      "index = 1, getting result\n",
      "b\n",
      "In MyIterIterator.__next__\n",
      "index = 2, getting result\n",
      "c\n",
      "In MyIterIterator.__next__\n",
      "index = 3, getting result\n",
      "d\n",
      "In MyIterIterator.__next__\n",
      "End of iterations\n"
     ]
    }
   ],
   "source": [
    "# iterable -- can run __iter__ on it\n",
    "# iterator -- can run __next__ on it\n",
    "\n",
    "\n",
    "class MyIterIterator():\n",
    "    def __init__(self, data):\n",
    "        print(\"In MyIterIterator.__init__\")\n",
    "        self.data = data\n",
    "        self.index = 0\n",
    "    \n",
    "    def __next__(self):\n",
    "        print(\"In MyIterIterator.__next__\")\n",
    "        if self.index >= len(self.data):\n",
    "            print(\"End of iterations\")\n",
    "            raise StopIteration\n",
    "            \n",
    "        print(f\"index = {self.index}, getting result\")\n",
    "        result = self.data[self.index]\n",
    "        self.index += 1\n",
    "        return result\n",
    "\n",
    "class MyIter():\n",
    "    def __init__(self, data):\n",
    "        print(\"In Myiter.__init__\")\n",
    "        self.data = data\n",
    "        \n",
    "    def __iter__(self):\n",
    "        print(\"In MyIter.__iter__\")\n",
    "        return MyIterIterator(self.data)\n",
    "    \n",
    "      \n",
    "\n",
    "m = MyIter('abcd')\n",
    "\n",
    "print(\"----- A ------\")\n",
    "for one_item in m:\n",
    "    print(one_item)\n",
    "    \n",
    "print(\"----- B ------\")\n",
    "for one_item in m:\n",
    "    print(one_item)    "
   ]
  },
  {
   "cell_type": "code",
   "execution_count": 58,
   "metadata": {},
   "outputs": [],
   "source": [
    "d = {'a':1, 'b':2, 'c':3}"
   ]
  },
  {
   "cell_type": "code",
   "execution_count": 59,
   "metadata": {},
   "outputs": [
    {
     "data": {
      "text/plain": [
       "dict_keys(['a', 'b', 'c'])"
      ]
     },
     "execution_count": 59,
     "metadata": {},
     "output_type": "execute_result"
    }
   ],
   "source": [
    "d.keys()"
   ]
  },
  {
   "cell_type": "code",
   "execution_count": 60,
   "metadata": {},
   "outputs": [
    {
     "data": {
      "text/plain": [
       "dict_values([1, 2, 3])"
      ]
     },
     "execution_count": 60,
     "metadata": {},
     "output_type": "execute_result"
    }
   ],
   "source": [
    "d.values()"
   ]
  },
  {
   "cell_type": "code",
   "execution_count": 61,
   "metadata": {},
   "outputs": [
    {
     "data": {
      "text/plain": [
       "<dict_keyiterator at 0x1139e83b0>"
      ]
     },
     "execution_count": 61,
     "metadata": {},
     "output_type": "execute_result"
    }
   ],
   "source": [
    "iter(d.keys())"
   ]
  },
  {
   "cell_type": "code",
   "execution_count": 62,
   "metadata": {},
   "outputs": [
    {
     "data": {
      "text/plain": [
       "<dict_valueiterator at 0x1133857d0>"
      ]
     },
     "execution_count": 62,
     "metadata": {},
     "output_type": "execute_result"
    }
   ],
   "source": [
    "iter(d.values())"
   ]
  },
  {
   "cell_type": "code",
   "execution_count": 63,
   "metadata": {},
   "outputs": [
    {
     "name": "stdout",
     "output_type": "stream",
     "text": [
      "In Myiter.__init__\n",
      "In MyIter.__iter__\n",
      "In MyIterIterator.__init__\n",
      "In MyIter.__iter__\n",
      "In MyIterIterator.__init__\n"
     ]
    }
   ],
   "source": [
    "m = MyIter('abcd')\n",
    "\n",
    "i1 = iter(m)\n",
    "i2 = iter(m)"
   ]
  },
  {
   "cell_type": "code",
   "execution_count": 64,
   "metadata": {},
   "outputs": [
    {
     "name": "stdout",
     "output_type": "stream",
     "text": [
      "In MyIterIterator.__next__\n",
      "index = 0, getting result\n"
     ]
    },
    {
     "data": {
      "text/plain": [
       "'a'"
      ]
     },
     "execution_count": 64,
     "metadata": {},
     "output_type": "execute_result"
    }
   ],
   "source": [
    "next(i1)"
   ]
  },
  {
   "cell_type": "code",
   "execution_count": 65,
   "metadata": {},
   "outputs": [
    {
     "name": "stdout",
     "output_type": "stream",
     "text": [
      "In MyIterIterator.__next__\n",
      "index = 0, getting result\n"
     ]
    },
    {
     "data": {
      "text/plain": [
       "'a'"
      ]
     },
     "execution_count": 65,
     "metadata": {},
     "output_type": "execute_result"
    }
   ],
   "source": [
    "next(i2)"
   ]
  },
  {
   "cell_type": "code",
   "execution_count": 66,
   "metadata": {},
   "outputs": [
    {
     "name": "stdout",
     "output_type": "stream",
     "text": [
      "In MyIterIterator.__next__\n",
      "index = 1, getting result\n"
     ]
    },
    {
     "data": {
      "text/plain": [
       "'b'"
      ]
     },
     "execution_count": 66,
     "metadata": {},
     "output_type": "execute_result"
    }
   ],
   "source": [
    "next(i2)"
   ]
  },
  {
   "cell_type": "code",
   "execution_count": 67,
   "metadata": {},
   "outputs": [
    {
     "name": "stdout",
     "output_type": "stream",
     "text": [
      "In MyIterIterator.__next__\n",
      "index = 2, getting result\n"
     ]
    },
    {
     "data": {
      "text/plain": [
       "'c'"
      ]
     },
     "execution_count": 67,
     "metadata": {},
     "output_type": "execute_result"
    }
   ],
   "source": [
    "next(i2)"
   ]
  },
  {
   "cell_type": "code",
   "execution_count": 68,
   "metadata": {},
   "outputs": [
    {
     "name": "stdout",
     "output_type": "stream",
     "text": [
      "In MyIterIterator.__next__\n",
      "index = 1, getting result\n"
     ]
    },
    {
     "data": {
      "text/plain": [
       "'b'"
      ]
     },
     "execution_count": 68,
     "metadata": {},
     "output_type": "execute_result"
    }
   ],
   "source": [
    "next(i1)"
   ]
  },
  {
   "cell_type": "code",
   "execution_count": 70,
   "metadata": {},
   "outputs": [
    {
     "name": "stdout",
     "output_type": "stream",
     "text": [
      "In MyIterIterator.__init__\n",
      "In Myiter.__init__\n",
      "----- A ------\n",
      "In MyIter.__iter__\n",
      "In MyIterIterator.__next__\n",
      "index = 0, getting result\n",
      "a\n",
      "In MyIterIterator.__next__\n",
      "index = 1, getting result\n",
      "b\n",
      "In MyIterIterator.__next__\n",
      "index = 2, getting result\n",
      "c\n",
      "In MyIterIterator.__next__\n",
      "index = 3, getting result\n",
      "d\n",
      "In MyIterIterator.__next__\n",
      "End of iterations\n",
      "----- B ------\n",
      "In MyIter.__iter__\n",
      "In MyIterIterator.__next__\n",
      "End of iterations\n"
     ]
    }
   ],
   "source": [
    "# iterable -- can run __iter__ on it\n",
    "# iterator -- can run __next__ on it\n",
    "\n",
    "\n",
    "class SimpleIterator():\n",
    "    def __init__(self):\n",
    "        print(\"In MyIterIterator.__init__\")\n",
    "        self.index = 0\n",
    "    \n",
    "    def __next__(self):\n",
    "        print(\"In MyIterIterator.__next__\")\n",
    "        if self.index >= len(self.data):\n",
    "            print(\"End of iterations\")\n",
    "            raise StopIteration\n",
    "            \n",
    "        print(f\"index = {self.index}, getting result\")\n",
    "        result = self.data[self.index]\n",
    "        self.index += 1\n",
    "        return result\n",
    "\n",
    "class MyIter(SimpleIterator):\n",
    "    def __init__(self, data):\n",
    "        super().__init__()\n",
    "        print(\"In Myiter.__init__\")\n",
    "        self.data = data\n",
    "        \n",
    "    def __iter__(self):\n",
    "        print(\"In MyIter.__iter__\")\n",
    "        return self\n",
    "    \n",
    "      \n",
    "m = MyIter('abcd')\n",
    "\n",
    "print(\"----- A ------\")\n",
    "for one_item in m:\n",
    "    print(one_item)\n",
    "    \n",
    "print(\"----- B ------\")\n",
    "for one_item in m:\n",
    "    print(one_item)    "
   ]
  },
  {
   "cell_type": "code",
   "execution_count": 71,
   "metadata": {},
   "outputs": [],
   "source": [
    "s = 'abcd'\n",
    "\n",
    "i1 = iter(s)\n",
    "i2 = iter(s)\n",
    "i3 = iter(s)"
   ]
  },
  {
   "cell_type": "code",
   "execution_count": 72,
   "metadata": {},
   "outputs": [
    {
     "data": {
      "text/plain": [
       "4626420368"
      ]
     },
     "execution_count": 72,
     "metadata": {},
     "output_type": "execute_result"
    }
   ],
   "source": [
    "id(i1)"
   ]
  },
  {
   "cell_type": "code",
   "execution_count": 73,
   "metadata": {},
   "outputs": [
    {
     "data": {
      "text/plain": [
       "4626422928"
      ]
     },
     "execution_count": 73,
     "metadata": {},
     "output_type": "execute_result"
    }
   ],
   "source": [
    "id(i2)"
   ]
  },
  {
   "cell_type": "code",
   "execution_count": 74,
   "metadata": {},
   "outputs": [
    {
     "data": {
      "text/plain": [
       "4624949584"
      ]
     },
     "execution_count": 74,
     "metadata": {},
     "output_type": "execute_result"
    }
   ],
   "source": [
    "id(i3)"
   ]
  },
  {
   "cell_type": "code",
   "execution_count": 76,
   "metadata": {},
   "outputs": [
    {
     "name": "stdout",
     "output_type": "stream",
     "text": [
      "In Myiter.__init__\n",
      "In MyIter.__iter__\n",
      "In MyIterIterator.__init__\n",
      "In MyIter.__iter__\n",
      "In MyIterIterator.__init__\n",
      "In MyIterIterator.__next__\n",
      "index = 0, getting result\n",
      "a\n",
      "In MyIterIterator.__next__\n",
      "index = 1, getting result\n",
      "b\n",
      "In MyIterIterator.__next__\n",
      "index = 0, getting result\n",
      "a\n"
     ]
    }
   ],
   "source": [
    "# iterable -- can run __iter__ on it\n",
    "# iterator -- can run __next__ on it\n",
    "\n",
    "\n",
    "class MyIterIterator():\n",
    "    def __init__(self, data):\n",
    "        print(\"In MyIterIterator.__init__\")\n",
    "        self.data = data\n",
    "        self.index = 0\n",
    "    \n",
    "    def __next__(self):\n",
    "        print(\"In MyIterIterator.__next__\")\n",
    "        if self.index >= len(self.data):\n",
    "            print(\"End of iterations\")\n",
    "            raise StopIteration\n",
    "            \n",
    "        print(f\"index = {self.index}, getting result\")\n",
    "        result = self.data[self.index]\n",
    "        self.index += 1\n",
    "        return result\n",
    "\n",
    "class MyIter():\n",
    "    def __init__(self, data):\n",
    "        print(\"In Myiter.__init__\")\n",
    "        self.data = data\n",
    "        \n",
    "    def __iter__(self):\n",
    "        print(\"In MyIter.__iter__\")\n",
    "        return MyIterIterator(self.data)\n",
    "    \n",
    "      \n",
    "\n",
    "m = MyIter('abcd')\n",
    "i1 = iter(m)\n",
    "i2 = iter(m)\n",
    "\n",
    "print(next(i1))   # a\n",
    "print(next(i1))    # b\n",
    "print(next(i2))    # a or c?  "
   ]
  },
  {
   "cell_type": "code",
   "execution_count": 77,
   "metadata": {},
   "outputs": [],
   "source": [
    "f = open('/etc/passwd')\n",
    "i1 = iter(f)\n",
    "i2 = iter(f)\n",
    "i3 = iter(f)"
   ]
  },
  {
   "cell_type": "code",
   "execution_count": 78,
   "metadata": {},
   "outputs": [
    {
     "data": {
      "text/plain": [
       "'##\\n'"
      ]
     },
     "execution_count": 78,
     "metadata": {},
     "output_type": "execute_result"
    }
   ],
   "source": [
    "f.readline()"
   ]
  },
  {
   "cell_type": "code",
   "execution_count": 79,
   "metadata": {},
   "outputs": [
    {
     "data": {
      "text/plain": [
       "'# User Database\\n'"
      ]
     },
     "execution_count": 79,
     "metadata": {},
     "output_type": "execute_result"
    }
   ],
   "source": [
    "f.readline()"
   ]
  },
  {
   "cell_type": "code",
   "execution_count": 80,
   "metadata": {},
   "outputs": [
    {
     "data": {
      "text/plain": [
       "19"
      ]
     },
     "execution_count": 80,
     "metadata": {},
     "output_type": "execute_result"
    }
   ],
   "source": [
    "f.tell()"
   ]
  },
  {
   "cell_type": "code",
   "execution_count": 81,
   "metadata": {},
   "outputs": [
    {
     "data": {
      "text/plain": [
       "'# \\n'"
      ]
     },
     "execution_count": 81,
     "metadata": {},
     "output_type": "execute_result"
    }
   ],
   "source": [
    "next(i1)"
   ]
  },
  {
   "cell_type": "code",
   "execution_count": 82,
   "metadata": {},
   "outputs": [
    {
     "data": {
      "text/plain": [
       "'# Note that this file is consulted directly only when the system is running\\n'"
      ]
     },
     "execution_count": 82,
     "metadata": {},
     "output_type": "execute_result"
    }
   ],
   "source": [
    "next(i2)"
   ]
  },
  {
   "cell_type": "code",
   "execution_count": 83,
   "metadata": {},
   "outputs": [
    {
     "data": {
      "text/plain": [
       "'# in single-user mode.  At other times this information is provided by\\n'"
      ]
     },
     "execution_count": 83,
     "metadata": {},
     "output_type": "execute_result"
    }
   ],
   "source": [
    "next(i3)"
   ]
  },
  {
   "cell_type": "code",
   "execution_count": 85,
   "metadata": {},
   "outputs": [
    {
     "data": {
      "text/plain": [
       "'# Open Directory.\\n'"
      ]
     },
     "execution_count": 85,
     "metadata": {},
     "output_type": "execute_result"
    }
   ],
   "source": [
    "next(f)"
   ]
  },
  {
   "cell_type": "code",
   "execution_count": 86,
   "metadata": {},
   "outputs": [],
   "source": [
    "def foo():\n",
    "    return 1\n",
    "    return 2\n",
    "    return 3"
   ]
  },
  {
   "cell_type": "code",
   "execution_count": 87,
   "metadata": {},
   "outputs": [
    {
     "data": {
      "text/plain": [
       "1"
      ]
     },
     "execution_count": 87,
     "metadata": {},
     "output_type": "execute_result"
    }
   ],
   "source": [
    "foo() "
   ]
  },
  {
   "cell_type": "code",
   "execution_count": 88,
   "metadata": {},
   "outputs": [
    {
     "data": {
      "text/plain": [
       "1"
      ]
     },
     "execution_count": 88,
     "metadata": {},
     "output_type": "execute_result"
    }
   ],
   "source": [
    "foo()"
   ]
  },
  {
   "cell_type": "code",
   "execution_count": 89,
   "metadata": {},
   "outputs": [],
   "source": [
    "def foo():   # generator function\n",
    "    yield 1\n",
    "    yield 2\n",
    "    yield 3"
   ]
  },
  {
   "cell_type": "code",
   "execution_count": 91,
   "metadata": {},
   "outputs": [
    {
     "data": {
      "text/plain": [
       "<generator object foo at 0x113b81250>"
      ]
     },
     "execution_count": 91,
     "metadata": {},
     "output_type": "execute_result"
    }
   ],
   "source": [
    "g = foo() \n",
    "g"
   ]
  },
  {
   "cell_type": "code",
   "execution_count": 92,
   "metadata": {},
   "outputs": [
    {
     "data": {
      "text/plain": [
       "1"
      ]
     },
     "execution_count": 92,
     "metadata": {},
     "output_type": "execute_result"
    }
   ],
   "source": [
    "next(g)"
   ]
  },
  {
   "cell_type": "code",
   "execution_count": 93,
   "metadata": {},
   "outputs": [
    {
     "data": {
      "text/plain": [
       "2"
      ]
     },
     "execution_count": 93,
     "metadata": {},
     "output_type": "execute_result"
    }
   ],
   "source": [
    "next(g)"
   ]
  },
  {
   "cell_type": "code",
   "execution_count": 94,
   "metadata": {},
   "outputs": [
    {
     "data": {
      "text/plain": [
       "3"
      ]
     },
     "execution_count": 94,
     "metadata": {},
     "output_type": "execute_result"
    }
   ],
   "source": [
    "next(g)"
   ]
  },
  {
   "cell_type": "code",
   "execution_count": 95,
   "metadata": {},
   "outputs": [
    {
     "ename": "StopIteration",
     "evalue": "",
     "output_type": "error",
     "traceback": [
      "\u001b[0;31m---------------------------------------------------------------------------\u001b[0m",
      "\u001b[0;31mStopIteration\u001b[0m                             Traceback (most recent call last)",
      "\u001b[0;32m<ipython-input-95-e734f8aca5ac>\u001b[0m in \u001b[0;36m<module>\u001b[0;34m\u001b[0m\n\u001b[0;32m----> 1\u001b[0;31m \u001b[0mnext\u001b[0m\u001b[0;34m(\u001b[0m\u001b[0mg\u001b[0m\u001b[0;34m)\u001b[0m\u001b[0;34m\u001b[0m\u001b[0;34m\u001b[0m\u001b[0m\n\u001b[0m",
      "\u001b[0;31mStopIteration\u001b[0m: "
     ]
    }
   ],
   "source": [
    "next(g)"
   ]
  },
  {
   "cell_type": "code",
   "execution_count": 96,
   "metadata": {},
   "outputs": [],
   "source": [
    "def foo():\n",
    "    for i in range(5):\n",
    "        yield i"
   ]
  },
  {
   "cell_type": "code",
   "execution_count": 97,
   "metadata": {},
   "outputs": [
    {
     "data": {
      "text/plain": [
       "[0, 1, 2, 3, 4]"
      ]
     },
     "execution_count": 97,
     "metadata": {},
     "output_type": "execute_result"
    }
   ],
   "source": [
    "list(foo())"
   ]
  },
  {
   "cell_type": "code",
   "execution_count": 98,
   "metadata": {},
   "outputs": [],
   "source": [
    "def fib():\n",
    "    first = 0\n",
    "    second = 1\n",
    "    while True:\n",
    "        yield first\n",
    "        first, second = second, first+second"
   ]
  },
  {
   "cell_type": "code",
   "execution_count": 99,
   "metadata": {},
   "outputs": [],
   "source": [
    "g = fib()"
   ]
  },
  {
   "cell_type": "code",
   "execution_count": 100,
   "metadata": {},
   "outputs": [
    {
     "data": {
      "text/plain": [
       "0"
      ]
     },
     "execution_count": 100,
     "metadata": {},
     "output_type": "execute_result"
    }
   ],
   "source": [
    "next(g)"
   ]
  },
  {
   "cell_type": "code",
   "execution_count": 101,
   "metadata": {},
   "outputs": [
    {
     "data": {
      "text/plain": [
       "1"
      ]
     },
     "execution_count": 101,
     "metadata": {},
     "output_type": "execute_result"
    }
   ],
   "source": [
    "next(g)"
   ]
  },
  {
   "cell_type": "code",
   "execution_count": 102,
   "metadata": {},
   "outputs": [
    {
     "data": {
      "text/plain": [
       "1"
      ]
     },
     "execution_count": 102,
     "metadata": {},
     "output_type": "execute_result"
    }
   ],
   "source": [
    "next(g)"
   ]
  },
  {
   "cell_type": "code",
   "execution_count": 103,
   "metadata": {},
   "outputs": [
    {
     "data": {
      "text/plain": [
       "2"
      ]
     },
     "execution_count": 103,
     "metadata": {},
     "output_type": "execute_result"
    }
   ],
   "source": [
    "next(g)"
   ]
  },
  {
   "cell_type": "code",
   "execution_count": 98,
   "metadata": {},
   "outputs": [],
   "source": [
    "def fib():\n",
    "    first = 0\n",
    "    second = 1\n",
    "    while True:\n",
    "        yield first\n",
    "        first, second = second, first+second"
   ]
  },
  {
   "cell_type": "code",
   "execution_count": 106,
   "metadata": {},
   "outputs": [
    {
     "name": "stdout",
     "output_type": "stream",
     "text": [
      "0 1 1 2 3 5 8 13 21 34 55 89 144 233 377 610 987 1597 2584 4181 6765 10946 17711 28657 46368 75025 121393 196418 317811 514229 832040 1346269 2178309 3524578 5702887 9227465 14930352 24157817 39088169 63245986 102334155 165580141 267914296 433494437 701408733 "
     ]
    }
   ],
   "source": [
    "for i in fib():\n",
    "    if i > 1000000000:\n",
    "        break\n",
    "    print(i, end=' ')"
   ]
  },
  {
   "cell_type": "code",
   "execution_count": 108,
   "metadata": {},
   "outputs": [
    {
     "data": {
      "text/plain": [
       "[0, 1, 2, 3, 4]"
      ]
     },
     "execution_count": 108,
     "metadata": {},
     "output_type": "execute_result"
    }
   ],
   "source": [
    "list(range(5))"
   ]
  },
  {
   "cell_type": "code",
   "execution_count": 109,
   "metadata": {},
   "outputs": [
    {
     "data": {
      "text/plain": [
       "[5, 6, 7, 8, 9]"
      ]
     },
     "execution_count": 109,
     "metadata": {},
     "output_type": "execute_result"
    }
   ],
   "source": [
    "list(range(5,10))"
   ]
  },
  {
   "cell_type": "code",
   "execution_count": 110,
   "metadata": {},
   "outputs": [
    {
     "data": {
      "text/plain": [
       "[5, 7, 9, 11, 13, 15, 17, 19]"
      ]
     },
     "execution_count": 110,
     "metadata": {},
     "output_type": "execute_result"
    }
   ],
   "source": [
    "list(range(5, 20, 2))"
   ]
  },
  {
   "cell_type": "code",
   "execution_count": 111,
   "metadata": {},
   "outputs": [],
   "source": [
    "# implement \"myrange\" as a generator\n",
    "# which will work just like range in these examples\n",
    "# (ignore negative step sizes)"
   ]
  },
  {
   "cell_type": "code",
   "execution_count": null,
   "metadata": {},
   "outputs": [],
   "source": [
    "for one_item in myrange(10):\n",
    "    print(one_item)"
   ]
  },
  {
   "cell_type": "code",
   "execution_count": 112,
   "metadata": {},
   "outputs": [],
   "source": [
    "i = iter(fib())"
   ]
  },
  {
   "cell_type": "code",
   "execution_count": 113,
   "metadata": {},
   "outputs": [
    {
     "data": {
      "text/plain": [
       "<generator object fib at 0x113b81850>"
      ]
     },
     "execution_count": 113,
     "metadata": {},
     "output_type": "execute_result"
    }
   ],
   "source": [
    "i"
   ]
  },
  {
   "cell_type": "code",
   "execution_count": 114,
   "metadata": {},
   "outputs": [
    {
     "data": {
      "text/plain": [
       "False"
      ]
     },
     "execution_count": 114,
     "metadata": {},
     "output_type": "execute_result"
    }
   ],
   "source": [
    "i == fib"
   ]
  },
  {
   "cell_type": "code",
   "execution_count": 115,
   "metadata": {},
   "outputs": [],
   "source": [
    "def foo():\n",
    "    x = 10\n",
    "    while True:\n",
    "        print(f\"Before yield, x = {x}\")\n",
    "        x = yield x\n",
    "        print(f\"After yield, x = {x}\")\n",
    "        x = x * 2\n",
    "        print(f\"After *, x = {x}\")\n",
    "        "
   ]
  },
  {
   "cell_type": "code",
   "execution_count": 116,
   "metadata": {},
   "outputs": [],
   "source": [
    "g = foo()"
   ]
  },
  {
   "cell_type": "code",
   "execution_count": 117,
   "metadata": {},
   "outputs": [
    {
     "name": "stdout",
     "output_type": "stream",
     "text": [
      "Before yield, x = 10\n"
     ]
    },
    {
     "data": {
      "text/plain": [
       "10"
      ]
     },
     "execution_count": 117,
     "metadata": {},
     "output_type": "execute_result"
    }
   ],
   "source": [
    "next(g)"
   ]
  },
  {
   "cell_type": "code",
   "execution_count": 118,
   "metadata": {},
   "outputs": [
    {
     "name": "stdout",
     "output_type": "stream",
     "text": [
      "After yield, x = None\n"
     ]
    },
    {
     "ename": "TypeError",
     "evalue": "unsupported operand type(s) for *: 'NoneType' and 'int'",
     "output_type": "error",
     "traceback": [
      "\u001b[0;31m---------------------------------------------------------------------------\u001b[0m",
      "\u001b[0;31mTypeError\u001b[0m                                 Traceback (most recent call last)",
      "\u001b[0;32m<ipython-input-118-e734f8aca5ac>\u001b[0m in \u001b[0;36m<module>\u001b[0;34m\u001b[0m\n\u001b[0;32m----> 1\u001b[0;31m \u001b[0mnext\u001b[0m\u001b[0;34m(\u001b[0m\u001b[0mg\u001b[0m\u001b[0;34m)\u001b[0m\u001b[0;34m\u001b[0m\u001b[0;34m\u001b[0m\u001b[0m\n\u001b[0m",
      "\u001b[0;32m<ipython-input-115-3628083c8fe3>\u001b[0m in \u001b[0;36mfoo\u001b[0;34m()\u001b[0m\n\u001b[1;32m      5\u001b[0m         \u001b[0mx\u001b[0m \u001b[0;34m=\u001b[0m \u001b[0;32myield\u001b[0m \u001b[0mx\u001b[0m\u001b[0;34m\u001b[0m\u001b[0;34m\u001b[0m\u001b[0m\n\u001b[1;32m      6\u001b[0m         \u001b[0mprint\u001b[0m\u001b[0;34m(\u001b[0m\u001b[0;34mf\"After yield, x = {x}\"\u001b[0m\u001b[0;34m)\u001b[0m\u001b[0;34m\u001b[0m\u001b[0;34m\u001b[0m\u001b[0m\n\u001b[0;32m----> 7\u001b[0;31m         \u001b[0mx\u001b[0m \u001b[0;34m=\u001b[0m \u001b[0mx\u001b[0m \u001b[0;34m*\u001b[0m \u001b[0;36m2\u001b[0m\u001b[0;34m\u001b[0m\u001b[0;34m\u001b[0m\u001b[0m\n\u001b[0m\u001b[1;32m      8\u001b[0m         \u001b[0mprint\u001b[0m\u001b[0;34m(\u001b[0m\u001b[0;34mf\"After *, x = {x}\"\u001b[0m\u001b[0;34m)\u001b[0m\u001b[0;34m\u001b[0m\u001b[0;34m\u001b[0m\u001b[0m\n\u001b[1;32m      9\u001b[0m \u001b[0;34m\u001b[0m\u001b[0m\n",
      "\u001b[0;31mTypeError\u001b[0m: unsupported operand type(s) for *: 'NoneType' and 'int'"
     ]
    }
   ],
   "source": [
    "next(g)"
   ]
  },
  {
   "cell_type": "code",
   "execution_count": 119,
   "metadata": {},
   "outputs": [],
   "source": [
    "g = foo()"
   ]
  },
  {
   "cell_type": "code",
   "execution_count": 120,
   "metadata": {},
   "outputs": [
    {
     "name": "stdout",
     "output_type": "stream",
     "text": [
      "Before yield, x = 10\n"
     ]
    },
    {
     "data": {
      "text/plain": [
       "10"
      ]
     },
     "execution_count": 120,
     "metadata": {},
     "output_type": "execute_result"
    }
   ],
   "source": [
    "next(g)"
   ]
  },
  {
   "cell_type": "code",
   "execution_count": 121,
   "metadata": {},
   "outputs": [
    {
     "name": "stdout",
     "output_type": "stream",
     "text": [
      "After yield, x = 567\n",
      "After *, x = 1134\n",
      "Before yield, x = 1134\n"
     ]
    },
    {
     "data": {
      "text/plain": [
       "1134"
      ]
     },
     "execution_count": 121,
     "metadata": {},
     "output_type": "execute_result"
    }
   ],
   "source": [
    "g.send(567)  # send the value 567 back into the generator!"
   ]
  },
  {
   "cell_type": "code",
   "execution_count": 122,
   "metadata": {},
   "outputs": [],
   "source": [
    "# coroutine "
   ]
  },
  {
   "cell_type": "code",
   "execution_count": 123,
   "metadata": {},
   "outputs": [],
   "source": [
    "import itertools"
   ]
  },
  {
   "cell_type": "code",
   "execution_count": 124,
   "metadata": {},
   "outputs": [],
   "source": [
    "s = 'abcd'\n",
    "mylist = [10, 20, 30]\n",
    "t = (100, 200, 300)"
   ]
  },
  {
   "cell_type": "code",
   "execution_count": 125,
   "metadata": {},
   "outputs": [],
   "source": [
    "def mychain(*args):\n",
    "    for one_arg in args:\n",
    "        for one_item in one_arg:\n",
    "            yield one_item"
   ]
  },
  {
   "cell_type": "code",
   "execution_count": 126,
   "metadata": {},
   "outputs": [
    {
     "name": "stdout",
     "output_type": "stream",
     "text": [
      "a b c d 10 20 30 100 200 300 "
     ]
    }
   ],
   "source": [
    "for x in mychain(s, mylist, t):\n",
    "    print(x, end=' ')"
   ]
  },
  {
   "cell_type": "code",
   "execution_count": 127,
   "metadata": {},
   "outputs": [
    {
     "name": "stdout",
     "output_type": "stream",
     "text": [
      "a b c d 10 20 30 100 200 300 "
     ]
    }
   ],
   "source": [
    "for x in itertools.chain(s, mylist, t):\n",
    "    print(x, end=' ')"
   ]
  },
  {
   "cell_type": "code",
   "execution_count": 128,
   "metadata": {},
   "outputs": [
    {
     "data": {
      "text/plain": [
       "<module 'itertools' (built-in)>"
      ]
     },
     "execution_count": 128,
     "metadata": {},
     "output_type": "execute_result"
    }
   ],
   "source": [
    "itertools"
   ]
  },
  {
   "cell_type": "code",
   "execution_count": 129,
   "metadata": {},
   "outputs": [
    {
     "data": {
      "text/plain": [
       "[0, 1, 2, 3, 4]"
      ]
     },
     "execution_count": 129,
     "metadata": {},
     "output_type": "execute_result"
    }
   ],
   "source": [
    "# list comprehension\n",
    "[one_item\n",
    "for one_item in range(5)]"
   ]
  },
  {
   "cell_type": "code",
   "execution_count": 130,
   "metadata": {},
   "outputs": [
    {
     "data": {
      "text/plain": [
       "{0, 1, 4, 9, 16, 25, 36, 49, 64, 81, 100}"
      ]
     },
     "execution_count": 130,
     "metadata": {},
     "output_type": "execute_result"
    }
   ],
   "source": [
    "# set comprehension\n",
    "{one_item*one_item\n",
    "for one_item in range(-10, 10)}"
   ]
  },
  {
   "cell_type": "code",
   "execution_count": 131,
   "metadata": {},
   "outputs": [
    {
     "data": {
      "text/plain": [
       "{-10: 100,\n",
       " -9: 81,\n",
       " -8: 64,\n",
       " -7: 49,\n",
       " -6: 36,\n",
       " -5: 25,\n",
       " -4: 16,\n",
       " -3: 9,\n",
       " -2: 4,\n",
       " -1: 1,\n",
       " 0: 0,\n",
       " 1: 1,\n",
       " 2: 4,\n",
       " 3: 9,\n",
       " 4: 16,\n",
       " 5: 25,\n",
       " 6: 36,\n",
       " 7: 49,\n",
       " 8: 64,\n",
       " 9: 81}"
      ]
     },
     "execution_count": 131,
     "metadata": {},
     "output_type": "execute_result"
    }
   ],
   "source": [
    "# dict comprehension\n",
    "{one_item : one_item*one_item\n",
    "for one_item in range(-10, 10)}"
   ]
  },
  {
   "cell_type": "code",
   "execution_count": 132,
   "metadata": {},
   "outputs": [
    {
     "data": {
      "text/plain": [
       "<generator object <genexpr> at 0x114173ad0>"
      ]
     },
     "execution_count": 132,
     "metadata": {},
     "output_type": "execute_result"
    }
   ],
   "source": [
    "# generator comprehension  / generator expression\n",
    "(one_item*one_item\n",
    "for one_item in range(5))"
   ]
  },
  {
   "cell_type": "code",
   "execution_count": 134,
   "metadata": {},
   "outputs": [
    {
     "data": {
      "text/plain": [
       "'10*20*30'"
      ]
     },
     "execution_count": 134,
     "metadata": {},
     "output_type": "execute_result"
    }
   ],
   "source": [
    "mylist = [10, 20, 30]\n",
    "\n",
    "'*'.join([str(x)\n",
    "          for x in mylist])"
   ]
  },
  {
   "cell_type": "code",
   "execution_count": 135,
   "metadata": {},
   "outputs": [
    {
     "data": {
      "text/plain": [
       "'10*20*30'"
      ]
     },
     "execution_count": 135,
     "metadata": {},
     "output_type": "execute_result"
    }
   ],
   "source": [
    "mylist = [10, 20, 30]\n",
    "\n",
    "'*'.join((str(x)\n",
    "          for x in mylist))"
   ]
  },
  {
   "cell_type": "code",
   "execution_count": 136,
   "metadata": {},
   "outputs": [
    {
     "data": {
      "text/plain": [
       "'10*20*30'"
      ]
     },
     "execution_count": 136,
     "metadata": {},
     "output_type": "execute_result"
    }
   ],
   "source": [
    "mylist = [10, 20, 30]\n",
    "\n",
    "# only one pair of parentheses is needed!\n",
    "'*'.join(str(x)\n",
    "          for x in mylist)"
   ]
  },
  {
   "cell_type": "code",
   "execution_count": 137,
   "metadata": {},
   "outputs": [],
   "source": [
    "def my_for(thing):\n",
    "    i = iter(thing)\n",
    "    while True:\n",
    "        try:\n",
    "            yield(next(i))\n",
    "        except StopIteration:\n",
    "            break\n",
    "    "
   ]
  },
  {
   "cell_type": "code",
   "execution_count": 138,
   "metadata": {},
   "outputs": [
    {
     "data": {
      "text/plain": [
       "[10, 20, 30]"
      ]
     },
     "execution_count": 138,
     "metadata": {},
     "output_type": "execute_result"
    }
   ],
   "source": [
    "list(my_for([10, 20, 30]))"
   ]
  },
  {
   "cell_type": "code",
   "execution_count": 139,
   "metadata": {},
   "outputs": [
    {
     "data": {
      "text/plain": [
       "4"
      ]
     },
     "execution_count": 139,
     "metadata": {},
     "output_type": "execute_result"
    }
   ],
   "source": [
    "f = open('myfile.txt', 'w')\n",
    "f.write('abc\\n')\n",
    "f.write('def\\n')\n",
    "f.write('ghi\\n')"
   ]
  },
  {
   "cell_type": "code",
   "execution_count": 140,
   "metadata": {},
   "outputs": [],
   "source": [
    "%cat myfile.txt"
   ]
  },
  {
   "cell_type": "code",
   "execution_count": 141,
   "metadata": {},
   "outputs": [],
   "source": [
    "f.close()    # flushes + closes"
   ]
  },
  {
   "cell_type": "code",
   "execution_count": 142,
   "metadata": {},
   "outputs": [
    {
     "name": "stdout",
     "output_type": "stream",
     "text": [
      "abc\r\n",
      "def\r\n",
      "ghi\r\n"
     ]
    }
   ],
   "source": [
    "%cat myfile.txt"
   ]
  },
  {
   "cell_type": "code",
   "execution_count": 144,
   "metadata": {},
   "outputs": [],
   "source": [
    "# context manager\n",
    "# the object has __enter__ and __exit__ defined\n",
    "# and thus does \"magic\" things in a \"with\" block\n",
    "\n",
    "with open('myfile.txt', 'w') as f:\n",
    "    # with turns to f and runs f.__enter__() \n",
    "    f.write('**abc\\n')\n",
    "    f.write('@@def\\n')\n",
    "    f.write('$$ghi\\n')\n",
    "    # with turns to f and runs f.__exit__()"
   ]
  },
  {
   "cell_type": "code",
   "execution_count": 145,
   "metadata": {},
   "outputs": [
    {
     "name": "stdout",
     "output_type": "stream",
     "text": [
      "**abc\r\n",
      "@@def\r\n",
      "$$ghi\r\n"
     ]
    }
   ],
   "source": [
    "%cat myfile.txt"
   ]
  },
  {
   "cell_type": "code",
   "execution_count": 146,
   "metadata": {},
   "outputs": [],
   "source": [
    "import sys\n"
   ]
  },
  {
   "cell_type": "code",
   "execution_count": 147,
   "metadata": {},
   "outputs": [
    {
     "data": {
      "text/plain": [
       "<ipykernel.iostream.OutStream at 0x112a47410>"
      ]
     },
     "execution_count": 147,
     "metadata": {},
     "output_type": "execute_result"
    }
   ],
   "source": [
    "sys.stdout"
   ]
  },
  {
   "cell_type": "code",
   "execution_count": 148,
   "metadata": {},
   "outputs": [
    {
     "name": "stdout",
     "output_type": "stream",
     "text": [
      "hello!"
     ]
    }
   ],
   "source": [
    "sys.stdout.write('hello!')"
   ]
  },
  {
   "cell_type": "code",
   "execution_count": 155,
   "metadata": {},
   "outputs": [],
   "source": [
    "class TempOut():\n",
    "    def __init__(self, outfile):\n",
    "        self.old_stdout = sys.stdout\n",
    "        self.outfile = outfile\n",
    "        \n",
    "    def __enter__(self):\n",
    "        print(\"Now in enter!\")\n",
    "        sys.stdout = self.outfile\n",
    "        return self\n",
    "        \n",
    "    def __exit__(self, extype, exvalue, tb):\n",
    "        print(\"Now in exit!\")\n",
    "        sys.stdout = self.old_stdout\n",
    "        self.outfile.close()\n",
    "        \n",
    "        "
   ]
  },
  {
   "cell_type": "code",
   "execution_count": 156,
   "metadata": {},
   "outputs": [
    {
     "name": "stdout",
     "output_type": "stream",
     "text": [
      "Now in enter!\n"
     ]
    }
   ],
   "source": [
    "with TempOut(open('myoutput.txt', 'w')) as f:\n",
    "    # __enter__ runs\n",
    "    print(\"Hello\")\n",
    "    print(\"And now, goodbye\")\n",
    "    # __exit__ runs"
   ]
  },
  {
   "cell_type": "code",
   "execution_count": 157,
   "metadata": {},
   "outputs": [
    {
     "name": "stdout",
     "output_type": "stream",
     "text": [
      "abcd\n"
     ]
    }
   ],
   "source": [
    "print('abcd')"
   ]
  },
  {
   "cell_type": "code",
   "execution_count": 158,
   "metadata": {},
   "outputs": [
    {
     "name": "stdout",
     "output_type": "stream",
     "text": [
      "Hello\r\n",
      "And now, goodbye\r\n",
      "Now in exit!\r\n"
     ]
    }
   ],
   "source": [
    "%cat myoutput.txt"
   ]
  },
  {
   "cell_type": "code",
   "execution_count": 160,
   "metadata": {},
   "outputs": [
    {
     "data": {
      "text/plain": [
       "<_io.TextIOWrapper name='myfile.txt' mode='r' encoding='UTF-8'>"
      ]
     },
     "execution_count": 160,
     "metadata": {},
     "output_type": "execute_result"
    }
   ],
   "source": [
    "open('myfile.txt')"
   ]
  },
  {
   "cell_type": "code",
   "execution_count": 184,
   "metadata": {},
   "outputs": [],
   "source": [
    "lines = '-' * 60\n",
    "\n",
    "def with_lines(func):\n",
    "    def wrapper(*args, **kwargs):\n",
    "        output = func(*args, **kwargs)\n",
    "        return f'{lines}\\n{output}\\n{lines}\\n'\n",
    "    return wrapper\n",
    "\n",
    "\n",
    "@with_lines\n",
    "def a():\n",
    "    return 'AAAAAAA'\n",
    "# a = with_lines(a)\n",
    "\n",
    "@with_lines\n",
    "def b():\n",
    "    return 'BBBBBBB'\n",
    "# b = with_lines(b)\n",
    "\n",
    "@with_lines\n",
    "def c():\n",
    "    return 'CCCCCC'\n",
    "# c = with_lines(c)\n",
    "\n",
    "@with_lines\n",
    "def add(a, b):\n",
    "    return a + b"
   ]
  },
  {
   "cell_type": "code",
   "execution_count": 185,
   "metadata": {},
   "outputs": [
    {
     "name": "stdout",
     "output_type": "stream",
     "text": [
      "------------------------------------------------------------\n",
      "AAAAAAA\n",
      "------------------------------------------------------------\n",
      "\n",
      "------------------------------------------------------------\n",
      "BBBBBBB\n",
      "------------------------------------------------------------\n",
      "\n",
      "------------------------------------------------------------\n",
      "CCCCCC\n",
      "------------------------------------------------------------\n",
      "\n"
     ]
    }
   ],
   "source": [
    "print(a())\n",
    "print(b())\n",
    "print(c())"
   ]
  },
  {
   "cell_type": "code",
   "execution_count": 187,
   "metadata": {},
   "outputs": [
    {
     "name": "stdout",
     "output_type": "stream",
     "text": [
      "------------------------------------------------------------\n",
      "5\n",
      "------------------------------------------------------------\n",
      "\n"
     ]
    }
   ],
   "source": [
    "print(add(2, 3))"
   ]
  },
  {
   "cell_type": "code",
   "execution_count": 176,
   "metadata": {},
   "outputs": [
    {
     "name": "stdout",
     "output_type": "stream",
     "text": [
      "------------------------------------------------------------\n",
      "AAAAAAA\n",
      "------------------------------------------------------------\n",
      "\n"
     ]
    }
   ],
   "source": [
    "print(a())"
   ]
  },
  {
   "cell_type": "code",
   "execution_count": 177,
   "metadata": {},
   "outputs": [
    {
     "data": {
      "text/plain": [
       "'wrapper'"
      ]
     },
     "execution_count": 177,
     "metadata": {},
     "output_type": "execute_result"
    }
   ],
   "source": [
    "a.__name__"
   ]
  },
  {
   "cell_type": "code",
   "execution_count": 191,
   "metadata": {},
   "outputs": [
    {
     "name": "stdout",
     "output_type": "stream",
     "text": [
      "5\n",
      "15\n"
     ]
    }
   ],
   "source": [
    "# write a \"timing\" decorator that when applied to a function\n",
    "# runs the function normally *BUT* writes the time elapsed\n",
    "# into a logfile (say, timing.txt)\n",
    "\n",
    "import time\n",
    "# time.time -- number of seconds since 1 Jan 1970 \n",
    "# time.sleep -- sleeps for n seconds\n",
    "\n",
    "def timing(func):\n",
    "    def wrapper(*args, **kwargs):\n",
    "        start_time = time.time()\n",
    "        result = func(*args, **kwargs)\n",
    "        total_time = time.time() - start_time\n",
    "        \n",
    "        with open('timinglog.txt', 'a') as f:\n",
    "            f.write(f'{func.__name__}\\t{total_time}\\n')\n",
    "        return result\n",
    "        \n",
    "    return wrapper\n",
    "    \n",
    "\n",
    "@timing\n",
    "def slow_add(a, b):\n",
    "    time.sleep(2)\n",
    "    return a + b\n",
    "\n",
    "print(slow_add(2, 3))\n",
    "print(slow_add(5, 10))"
   ]
  },
  {
   "cell_type": "code",
   "execution_count": 192,
   "metadata": {},
   "outputs": [
    {
     "name": "stdout",
     "output_type": "stream",
     "text": [
      "slow_add\t2.002681255340576\r\n",
      "slow_add\t2.000142812728882\r\n"
     ]
    }
   ],
   "source": [
    "%cat timinglog.txt"
   ]
  },
  {
   "cell_type": "code",
   "execution_count": 194,
   "metadata": {},
   "outputs": [
    {
     "name": "stdout",
     "output_type": "stream",
     "text": [
      "5\n"
     ]
    },
    {
     "ename": "CalledTooOftenError",
     "evalue": "Wait a bit!",
     "output_type": "error",
     "traceback": [
      "\u001b[0;31m---------------------------------------------------------------------------\u001b[0m",
      "\u001b[0;31mCalledTooOftenError\u001b[0m                       Traceback (most recent call last)",
      "\u001b[0;32m<ipython-input-194-890e001bc263>\u001b[0m in \u001b[0;36m<module>\u001b[0;34m\u001b[0m\n\u001b[1;32m     23\u001b[0m \u001b[0;34m\u001b[0m\u001b[0m\n\u001b[1;32m     24\u001b[0m \u001b[0mprint\u001b[0m\u001b[0;34m(\u001b[0m\u001b[0mslow_add\u001b[0m\u001b[0;34m(\u001b[0m\u001b[0;36m2\u001b[0m\u001b[0;34m,\u001b[0m \u001b[0;36m3\u001b[0m\u001b[0;34m)\u001b[0m\u001b[0;34m)\u001b[0m\u001b[0;34m\u001b[0m\u001b[0;34m\u001b[0m\u001b[0m\n\u001b[0;32m---> 25\u001b[0;31m \u001b[0mprint\u001b[0m\u001b[0;34m(\u001b[0m\u001b[0mslow_add\u001b[0m\u001b[0;34m(\u001b[0m\u001b[0;36m5\u001b[0m\u001b[0;34m,\u001b[0m \u001b[0;36m10\u001b[0m\u001b[0;34m)\u001b[0m\u001b[0;34m)\u001b[0m\u001b[0;34m\u001b[0m\u001b[0;34m\u001b[0m\u001b[0m\n\u001b[0m",
      "\u001b[0;32m<ipython-input-194-890e001bc263>\u001b[0m in \u001b[0;36mwrapper\u001b[0;34m(*args, **kwargs)\u001b[0m\n\u001b[1;32m      9\u001b[0m \u001b[0;34m\u001b[0m\u001b[0m\n\u001b[1;32m     10\u001b[0m         \u001b[0;32mif\u001b[0m \u001b[0mtime\u001b[0m\u001b[0;34m.\u001b[0m\u001b[0mtime\u001b[0m\u001b[0;34m(\u001b[0m\u001b[0;34m)\u001b[0m \u001b[0;34m-\u001b[0m \u001b[0mlast_time\u001b[0m \u001b[0;34m<\u001b[0m \u001b[0;36m60\u001b[0m\u001b[0;34m:\u001b[0m\u001b[0;34m\u001b[0m\u001b[0;34m\u001b[0m\u001b[0m\n\u001b[0;32m---> 11\u001b[0;31m             \u001b[0;32mraise\u001b[0m \u001b[0mCalledTooOftenError\u001b[0m\u001b[0;34m(\u001b[0m\u001b[0;34mf'Wait a bit!'\u001b[0m\u001b[0;34m)\u001b[0m\u001b[0;34m\u001b[0m\u001b[0;34m\u001b[0m\u001b[0m\n\u001b[0m\u001b[1;32m     12\u001b[0m \u001b[0;34m\u001b[0m\u001b[0m\n\u001b[1;32m     13\u001b[0m         \u001b[0mresult\u001b[0m \u001b[0;34m=\u001b[0m \u001b[0mfunc\u001b[0m\u001b[0;34m(\u001b[0m\u001b[0;34m*\u001b[0m\u001b[0margs\u001b[0m\u001b[0;34m,\u001b[0m \u001b[0;34m**\u001b[0m\u001b[0mkwargs\u001b[0m\u001b[0;34m)\u001b[0m\u001b[0;34m\u001b[0m\u001b[0;34m\u001b[0m\u001b[0m\n",
      "\u001b[0;31mCalledTooOftenError\u001b[0m: Wait a bit!"
     ]
    }
   ],
   "source": [
    "class CalledTooOftenError(Exception): \n",
    "    pass\n",
    "\n",
    "def once_per_minute(func):\n",
    "    last_time = 0\n",
    "    \n",
    "    def wrapper(*args, **kwargs):\n",
    "        nonlocal last_time\n",
    "        \n",
    "        if time.time() - last_time < 60:\n",
    "            raise CalledTooOftenError(f'Wait a bit!')\n",
    "        \n",
    "        result = func(*args, **kwargs)\n",
    "        last_time = time.time()\n",
    "        return result\n",
    "    return wrapper\n",
    "\n",
    "\n",
    "@once_per_minute\n",
    "def slow_add(a, b):\n",
    "    time.sleep(2)\n",
    "    return a + b\n",
    "\n",
    "print(slow_add(2, 3))\n",
    "print(slow_add(5, 10))"
   ]
  },
  {
   "cell_type": "code",
   "execution_count": 198,
   "metadata": {},
   "outputs": [
    {
     "name": "stdout",
     "output_type": "stream",
     "text": [
      "5\n"
     ]
    },
    {
     "ename": "CalledTooOftenError",
     "evalue": "Wait a bit!",
     "output_type": "error",
     "traceback": [
      "\u001b[0;31m---------------------------------------------------------------------------\u001b[0m",
      "\u001b[0;31mCalledTooOftenError\u001b[0m                       Traceback (most recent call last)",
      "\u001b[0;32m<ipython-input-198-08e258efaca7>\u001b[0m in \u001b[0;36m<module>\u001b[0;34m\u001b[0m\n\u001b[1;32m     25\u001b[0m \u001b[0;34m\u001b[0m\u001b[0m\n\u001b[1;32m     26\u001b[0m \u001b[0mprint\u001b[0m\u001b[0;34m(\u001b[0m\u001b[0mslow_add\u001b[0m\u001b[0;34m(\u001b[0m\u001b[0;36m2\u001b[0m\u001b[0;34m,\u001b[0m \u001b[0;36m3\u001b[0m\u001b[0;34m)\u001b[0m\u001b[0;34m)\u001b[0m\u001b[0;34m\u001b[0m\u001b[0;34m\u001b[0m\u001b[0m\n\u001b[0;32m---> 27\u001b[0;31m \u001b[0mprint\u001b[0m\u001b[0;34m(\u001b[0m\u001b[0mslow_add\u001b[0m\u001b[0;34m(\u001b[0m\u001b[0;36m5\u001b[0m\u001b[0;34m,\u001b[0m \u001b[0;36m10\u001b[0m\u001b[0;34m)\u001b[0m\u001b[0;34m)\u001b[0m\u001b[0;34m\u001b[0m\u001b[0;34m\u001b[0m\u001b[0m\n\u001b[0m",
      "\u001b[0;32m<ipython-input-198-08e258efaca7>\u001b[0m in \u001b[0;36mwrapper\u001b[0;34m(*args, **kwargs)\u001b[0m\n\u001b[1;32m     10\u001b[0m \u001b[0;34m\u001b[0m\u001b[0m\n\u001b[1;32m     11\u001b[0m             \u001b[0;32mif\u001b[0m \u001b[0mtime\u001b[0m\u001b[0;34m.\u001b[0m\u001b[0mtime\u001b[0m\u001b[0;34m(\u001b[0m\u001b[0;34m)\u001b[0m \u001b[0;34m-\u001b[0m \u001b[0mlast_time\u001b[0m \u001b[0;34m<\u001b[0m \u001b[0mn\u001b[0m\u001b[0;34m:\u001b[0m\u001b[0;34m\u001b[0m\u001b[0;34m\u001b[0m\u001b[0m\n\u001b[0;32m---> 12\u001b[0;31m                 \u001b[0;32mraise\u001b[0m \u001b[0mCalledTooOftenError\u001b[0m\u001b[0;34m(\u001b[0m\u001b[0;34mf'Wait a bit!'\u001b[0m\u001b[0;34m)\u001b[0m\u001b[0;34m\u001b[0m\u001b[0;34m\u001b[0m\u001b[0m\n\u001b[0m\u001b[1;32m     13\u001b[0m \u001b[0;34m\u001b[0m\u001b[0m\n\u001b[1;32m     14\u001b[0m             \u001b[0mresult\u001b[0m \u001b[0;34m=\u001b[0m \u001b[0mfunc\u001b[0m\u001b[0;34m(\u001b[0m\u001b[0;34m*\u001b[0m\u001b[0margs\u001b[0m\u001b[0;34m,\u001b[0m \u001b[0;34m**\u001b[0m\u001b[0mkwargs\u001b[0m\u001b[0;34m)\u001b[0m\u001b[0;34m\u001b[0m\u001b[0;34m\u001b[0m\u001b[0m\n",
      "\u001b[0;31mCalledTooOftenError\u001b[0m: Wait a bit!"
     ]
    }
   ],
   "source": [
    "class CalledTooOftenError(Exception): \n",
    "    pass\n",
    "\n",
    "def once_per_n(n):\n",
    "    def middle(func):\n",
    "        last_time = 0\n",
    "    \n",
    "        def wrapper(*args, **kwargs):\n",
    "            nonlocal last_time\n",
    "\n",
    "            if time.time() - last_time < n:\n",
    "                raise CalledTooOftenError(f'Wait a bit!')\n",
    "\n",
    "            result = func(*args, **kwargs)\n",
    "            last_time = time.time()\n",
    "            return result\n",
    "        return wrapper\n",
    "    return middle\n",
    "\n",
    "@once_per_n(10)\n",
    "def slow_add(a, b):\n",
    "    time.sleep(2)\n",
    "    return a + b\n",
    "# slow_add = once_per_n(10)(slow_add)\n",
    "\n",
    "print(slow_add(2, 3))\n",
    "print(slow_add(5, 10))"
   ]
  },
  {
   "cell_type": "code",
   "execution_count": 199,
   "metadata": {},
   "outputs": [],
   "source": [
    "import pytest"
   ]
  },
  {
   "cell_type": "code",
   "execution_count": 200,
   "metadata": {},
   "outputs": [],
   "source": [
    "pytest.mark.parametrize??"
   ]
  },
  {
   "cell_type": "code",
   "execution_count": 202,
   "metadata": {},
   "outputs": [
    {
     "name": "stdout",
     "output_type": "stream",
     "text": [
      "------------------------------------------------------------\n",
      "AAAAAAA\n",
      "------------------------------------------------------------\n",
      "\n",
      "------------------------------------------------------------\n",
      "8\n",
      "------------------------------------------------------------\n",
      "\n"
     ]
    }
   ],
   "source": [
    "lines = '-' * 60\n",
    "\n",
    "class WithLines():\n",
    "    def __init__(self, func):\n",
    "        self.func = func\n",
    "        \n",
    "    def __call__(self, *args, **kwargs):\n",
    "        output = self.func(*args, **kwargs)\n",
    "        return f'{lines}\\n{output}\\n{lines}\\n'\n",
    "\n",
    "@WithLines\n",
    "def a():\n",
    "    return 'AAAAAAA'\n",
    "# a = WithLines(a)\n",
    "\n",
    "@WithLines\n",
    "def b():\n",
    "    return 'BBBBBBB'\n",
    "# b = WithLines(b)\n",
    "\n",
    "@with_lines\n",
    "def c():\n",
    "    return 'CCCCCC'\n",
    "# c = with_lines(c)\n",
    "\n",
    "@with_lines\n",
    "def add(a, b):\n",
    "    return a + b\n",
    "\n",
    "print(a())\n",
    "print(add(3,5))"
   ]
  },
  {
   "cell_type": "code",
   "execution_count": 204,
   "metadata": {},
   "outputs": [
    {
     "name": "stdout",
     "output_type": "stream",
     "text": [
      "New args (2, 4), running function\n",
      "Really running add!\n",
      "6\n",
      "We have seen args (2, 4) before\n",
      "6\n"
     ]
    }
   ],
   "source": [
    "from functools import lru_cache   # least recently used cache\n",
    "\n",
    "\n",
    "@lru_cache(10)\n",
    "def mul(a, b):\n",
    "    return a * b\n",
    "\n",
    "\n",
    "class Memoize():\n",
    "    def __init__(self, func):\n",
    "        self.func = func\n",
    "        self.cache = {}\n",
    "        \n",
    "    def __call__(self, *args, **kwargs):\n",
    "        if args not in self.cache:\n",
    "            print(f\"New args {args}, running function\")\n",
    "            self.cache[args] = self.func(*args, **kwargs)\n",
    "        else:\n",
    "            print(f'We have seen args {args} before')\n",
    "        \n",
    "        return self.cache[args]\n",
    "\n",
    "\n",
    "@Memoize\n",
    "def add(a, b):\n",
    "    print(\"Really running add!\")\n",
    "    return a + b\n",
    "\n",
    "@Memoize\n",
    "def sub(a, b):\n",
    "    print(\"Really running sub!\")\n",
    "    return a - b\n",
    "\n",
    "print(add(2, 4))  # will print -- really running\n",
    "print(add(2, 4))  # will return 6, but won't print\n",
    "\n"
   ]
  },
  {
   "cell_type": "code",
   "execution_count": 207,
   "metadata": {},
   "outputs": [
    {
     "name": "stdout",
     "output_type": "stream",
     "text": [
      "Foo with vars {'x': 10}\n"
     ]
    }
   ],
   "source": [
    "def fancy_repr(self):\n",
    "    return f'{self.__class__.__name__} with vars {vars(self)}'\n",
    "\n",
    "def better_repr(c):\n",
    "    c.__repr__ = fancy_repr\n",
    "    return c\n",
    "\n",
    "#     def wrapper(*args, **kwargs):  # when someone says c()\n",
    "#         return c(*args, **kwargs)\n",
    "    \n",
    "    return wrapper\n",
    "        \n",
    "\n",
    "@better_repr\n",
    "class Foo():\n",
    "    def __init__(self, x):\n",
    "        self.x = x\n",
    "        \n",
    "f = Foo(10)\n",
    "print(f)"
   ]
  },
  {
   "cell_type": "code",
   "execution_count": 208,
   "metadata": {},
   "outputs": [
    {
     "data": {
      "text/plain": [
       "Foo with vars {'x': 10}"
      ]
     },
     "execution_count": 208,
     "metadata": {},
     "output_type": "execute_result"
    }
   ],
   "source": [
    "f"
   ]
  },
  {
   "cell_type": "code",
   "execution_count": 210,
   "metadata": {},
   "outputs": [
    {
     "name": "stdout",
     "output_type": "stream",
     "text": [
      "<class 'function'>\n",
      "Foo with vars {'x': 10, '_created_at': 1567765097.587028}\n"
     ]
    }
   ],
   "source": [
    "import time\n",
    "\n",
    "def fancy_repr(self):\n",
    "    return f'{self.__class__.__name__} with vars {vars(self)}'\n",
    "\n",
    "def better_repr(c):\n",
    "    c.__repr__ = fancy_repr\n",
    "\n",
    "    def wrapper(*args, **kwargs):  # when someone says c()\n",
    "        new_instance = c(*args, **kwargs)\n",
    "        new_instance._created_at = time.time()\n",
    "        return new_instance\n",
    "    \n",
    "    return wrapper\n",
    "        \n",
    "\n",
    "@better_repr\n",
    "class Foo():\n",
    "    def __init__(self, x):\n",
    "        self.x = x\n",
    "\n",
    "print(type(Foo))\n",
    "       \n",
    "f = Foo(10)\n",
    "print(f)"
   ]
  },
  {
   "cell_type": "code",
   "execution_count": 218,
   "metadata": {},
   "outputs": [
    {
     "name": "stdout",
     "output_type": "stream",
     "text": [
      "Now running getter\n",
      "10\n",
      "Now running setter\n",
      "Now deleting myself\n"
     ]
    }
   ],
   "source": [
    "class Foo():\n",
    "    def __init__(self, x):\n",
    "        self._x = x\n",
    "        \n",
    "    @property\n",
    "    def x(self):\n",
    "        print(\"Now running getter\")\n",
    "        return self._x\n",
    "    \n",
    "    @x.setter\n",
    "    def x(self, new_x):\n",
    "        print(\"Now running setter\")\n",
    "        self._x = new_x\n",
    "        \n",
    "    @x.deleter\n",
    "    def x(self):\n",
    "        print(f\"Now deleting myself\")\n",
    "\n",
    "f = Foo(10)\n",
    "print(f.x)\n",
    "f.x = 200\n",
    "del(f.x)"
   ]
  },
  {
   "cell_type": "code",
   "execution_count": 233,
   "metadata": {},
   "outputs": [],
   "source": [
    "class Foo():\n",
    "    def __init__(self, x):\n",
    "        self.x = x\n",
    "        \n",
    "    @staticmethod\n",
    "    def hello():\n",
    "        return \"Hello!\"\n",
    "        \n",
    "f = Foo(10)"
   ]
  },
  {
   "cell_type": "code",
   "execution_count": 228,
   "metadata": {},
   "outputs": [
    {
     "data": {
      "text/plain": [
       "'Hello!'"
      ]
     },
     "execution_count": 228,
     "metadata": {},
     "output_type": "execute_result"
    }
   ],
   "source": [
    "Foo.hello()"
   ]
  },
  {
   "cell_type": "code",
   "execution_count": 229,
   "metadata": {},
   "outputs": [
    {
     "data": {
      "text/plain": [
       "'Hello!'"
      ]
     },
     "execution_count": 229,
     "metadata": {},
     "output_type": "execute_result"
    }
   ],
   "source": [
    "f.hello()"
   ]
  },
  {
   "cell_type": "code",
   "execution_count": 234,
   "metadata": {},
   "outputs": [
    {
     "data": {
      "text/plain": [
       "function"
      ]
     },
     "execution_count": 234,
     "metadata": {},
     "output_type": "execute_result"
    }
   ],
   "source": [
    "type(Foo.hello)"
   ]
  },
  {
   "cell_type": "code",
   "execution_count": 235,
   "metadata": {},
   "outputs": [
    {
     "data": {
      "text/plain": [
       "function"
      ]
     },
     "execution_count": 235,
     "metadata": {},
     "output_type": "execute_result"
    }
   ],
   "source": [
    "type(f.hello)"
   ]
  },
  {
   "cell_type": "code",
   "execution_count": 236,
   "metadata": {},
   "outputs": [],
   "source": [
    "class Foo():\n",
    "    def __init__(self, x):\n",
    "        self.x = x\n",
    "        \n",
    "    @classmethod\n",
    "    def hello(cls):\n",
    "        return f\"Hello from class {cls}!\"\n",
    "        \n",
    "f = Foo(10)"
   ]
  },
  {
   "cell_type": "code",
   "execution_count": 237,
   "metadata": {},
   "outputs": [
    {
     "data": {
      "text/plain": [
       "\"Hello from class <class '__main__.Foo'>!\""
      ]
     },
     "execution_count": 237,
     "metadata": {},
     "output_type": "execute_result"
    }
   ],
   "source": [
    "f.hello()"
   ]
  },
  {
   "cell_type": "code",
   "execution_count": 238,
   "metadata": {},
   "outputs": [
    {
     "data": {
      "text/plain": [
       "\"Hello from class <class '__main__.Foo'>!\""
      ]
     },
     "execution_count": 238,
     "metadata": {},
     "output_type": "execute_result"
    }
   ],
   "source": [
    "Foo.hello()"
   ]
  },
  {
   "cell_type": "code",
   "execution_count": null,
   "metadata": {},
   "outputs": [],
   "source": []
  }
 ],
 "metadata": {
  "kernelspec": {
   "display_name": "Python 3",
   "language": "python",
   "name": "python3"
  },
  "language_info": {
   "codemirror_mode": {
    "name": "ipython",
    "version": 3
   },
   "file_extension": ".py",
   "mimetype": "text/x-python",
   "name": "python",
   "nbconvert_exporter": "python",
   "pygments_lexer": "ipython3",
   "version": "3.7.4"
  }
 },
 "nbformat": 4,
 "nbformat_minor": 2
}
